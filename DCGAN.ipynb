{
 "cells": [
  {
   "cell_type": "code",
   "execution_count": 1,
   "id": "2f1bd16c-627c-471e-a09b-9330fb88232f",
   "metadata": {},
   "outputs": [
    {
     "name": "stderr",
     "output_type": "stream",
     "text": [
      "2023-04-22 22:02:40.141423: I tensorflow/core/platform/cpu_feature_guard.cc:193] This TensorFlow binary is optimized with oneAPI Deep Neural Network Library (oneDNN) to use the following CPU instructions in performance-critical operations:  SSE4.1 SSE4.2 AVX AVX2 AVX512F AVX512_VNNI FMA\n",
      "To enable them in other operations, rebuild TensorFlow with the appropriate compiler flags.\n"
     ]
    }
   ],
   "source": [
    "import torch\n",
    "import torch.nn as nn\n",
    "import torch.optim as optim\n",
    "import torchvision\n",
    "import torchvision.datasets as datasets\n",
    "import torchvision.transforms as transforms\n",
    "from torch.utils.data import DataLoader\n",
    "from torch.utils.tensorboard import SummaryWriter\n",
    "device = torch.device(\"cuda\" if torch.cuda.is_available() else \"cpu\")"
   ]
  },
  {
   "cell_type": "code",
   "execution_count": 2,
   "id": "43a57d40-0f85-4c62-847c-01cea69caed7",
   "metadata": {},
   "outputs": [],
   "source": [
    "class Discriminator(nn.Module):\n",
    "    def __init__(self, channels_img, features_d):\n",
    "        super(Discriminator, self).__init__()\n",
    "        self.disc = nn.Sequential(\n",
    "            nn.Conv2d(channels_img,features_d,kernel_size=4,stride=2,padding=1),\n",
    "            nn.LeakyReLU(0.2),\n",
    "            self.block(features_d, features_d*2,4,2,1),\n",
    "            self.block(features_d*2, features_d*4,4,2,1),\n",
    "            self.block(features_d*4, features_d*8,4,2,1),\n",
    "            nn.Conv2d(features_d*8,1, kernel_size=4,stride=2,padding=0), #single value output determining if the photo is real\n",
    "            nn.Sigmoid()\n",
    "        )\n",
    "        \n",
    "    def block(self, in_channels, out_channels, kernel_size, stride, padding):\n",
    "        return nn.Sequential(\n",
    "            nn.Conv2d(in_channels, out_channels, kernel_size,stride,padding,bias=False,),\n",
    "            nn.BatchNorm2d(out_channels),\n",
    "            nn.LeakyReLU(0.2),\n",
    "        )\n",
    "    \n",
    "    def forward(self, x):\n",
    "        return self.disc(x)\n",
    "            "
   ]
  },
  {
   "cell_type": "code",
   "execution_count": 3,
   "id": "3eb1158d-b100-4bf5-8cdf-2efdcd68a332",
   "metadata": {},
   "outputs": [],
   "source": [
    "class Generator(nn.Module):\n",
    "    def __init__(self, z_dim, channels_img, features_g):\n",
    "        super(Generator, self).__init__()\n",
    "        self.gen = nn.Sequential(\n",
    "            self.block(z_dim, features_g*16, 4, 1, 0),\n",
    "            self.block(features_g*16, features_g*8, 4, 2, 1), # 8x8\n",
    "            self.block(features_g*8, features_g*4, 4, 2, 1), #16x16\n",
    "            self.block(features_g*4, features_g*2, 4, 2, 1), #32x32\n",
    "            nn.ConvTranspose2d(\n",
    "                features_g*2, channels_img, kernel_size=4,stride=2, padding=1,\n",
    "            ),\n",
    "            nn.Tanh(),\n",
    "        )\n",
    "        \n",
    "    def block(self, in_channels, out_channels, kernel_size, stride, padding):\n",
    "        return nn.Sequential(\n",
    "            nn.ConvTranspose2d(in_channels,out_channels,kernel_size,stride,padding,bias=False,),\n",
    "            nn.BatchNorm2d(out_channels),\n",
    "            nn.ReLU(),\n",
    "        )\n",
    "    \n",
    "    def forward(self, x):\n",
    "        return self.gen(x)"
   ]
  },
  {
   "cell_type": "code",
   "execution_count": 4,
   "id": "d25d77b2-c07a-47a2-a846-c88a7fea8ca9",
   "metadata": {},
   "outputs": [],
   "source": [
    "def init_weights(model):\n",
    "    for m in model.modules():\n",
    "        if isinstance(m, (nn.Conv2d, nn.ConvTranspose2d, nn.BatchNorm2d)):\n",
    "            nn.init.normal_(m.weight.data, 0.0, 0.02)\n",
    "                \n",
    "def test():\n",
    "    N, in_channels, H, W = 8, 3, 64, 64\n",
    "    z_dim = 100\n",
    "    x = torch.randn((N, in_channels, H, W))\n",
    "    disc = Discriminator(in_channels, 8)\n",
    "    init_weights(disc)\n",
    "    assert disc(x).shape == (N, 1,1,1)\n",
    "    gen = Generator(z_dim, in_channels, 8)\n",
    "    z = torch.randn((N, z_dim, 1,1))\n",
    "    assert gen(z).shape == (N, in_channels, H, W)\n",
    "    print(\"Success\")"
   ]
  },
  {
   "cell_type": "code",
   "execution_count": 5,
   "id": "86bf136d-c67f-4f1f-a343-a1af1663e5d8",
   "metadata": {},
   "outputs": [
    {
     "name": "stdout",
     "output_type": "stream",
     "text": [
      "Success\n"
     ]
    }
   ],
   "source": [
    "test()"
   ]
  },
  {
   "cell_type": "markdown",
   "id": "feed4e3d-bd4d-40c9-8671-2995e75ac60e",
   "metadata": {},
   "source": [
    "# Training the model"
   ]
  },
  {
   "cell_type": "code",
   "execution_count": 12,
   "id": "96db8a63-d9ce-4eb9-ada8-a97e92193448",
   "metadata": {},
   "outputs": [],
   "source": [
    "#hyperparameters\n",
    "lr = .0002\n",
    "batch_size = 128\n",
    "image_size = 64\n",
    "channels_img = 3\n",
    "z_dim = 128\n",
    "n_epochs = 25\n",
    "\n",
    "# these two need to be the same to match the paper\n",
    "features_disc = 64\n",
    "features_gen = 64"
   ]
  },
  {
   "cell_type": "code",
   "execution_count": null,
   "id": "f4308d53-ccb0-4a33-abd3-b56218a9cacf",
   "metadata": {},
   "outputs": [
    {
     "name": "stdout",
     "output_type": "stream",
     "text": [
      "epoch 1: completed\n",
      "epoch 2: completed\n",
      "epoch 3: completed\n",
      "epoch 4: completed\n",
      "epoch 5: completed\n",
      "epoch 6: completed\n",
      "epoch 7: completed\n",
      "epoch 8: completed\n",
      "epoch 9: completed\n",
      "epoch 10: completed\n",
      "epoch 11: completed\n",
      "epoch 12: completed\n",
      "epoch 13: completed\n",
      "epoch 14: completed\n",
      "epoch 15: completed\n",
      "epoch 16: completed\n",
      "epoch 17: completed\n",
      "epoch 18: completed\n",
      "epoch 19: completed\n",
      "epoch 20: completed\n",
      "epoch 21: completed\n",
      "epoch 22: completed\n",
      "epoch 23: completed\n"
     ]
    }
   ],
   "source": [
    "transforms = torchvision.transforms.Compose(\n",
    "    [\n",
    "        torchvision.transforms.Resize(image_size),\n",
    "        torchvision.transforms.ToTensor(),\n",
    "        torchvision.transforms.Normalize([0.5 for _ in range(channels_img)],[0.5 for _ in range(channels_img)]),\n",
    "    ]\n",
    ")\n",
    "\n",
    "# dataset = datasets.MNIST(root=\"dataset/\", train=True, transform=transforms, download=True)\n",
    "# dataset = datasets.ImageFolder(root=\"CIFAR10\", transform=transforms)\n",
    "dataset = datasets.CIFAR10(root=\"dataset/\", train=True, transform=transforms)\n",
    "dataloader = DataLoader(dataset, batch_size = batch_size, shuffle=True)\n",
    "gen = Generator(z_dim, channels_img, features_gen).to(device)\n",
    "disc = Discriminator(channels_img, features_disc).to(device)\n",
    "init_weights(gen)\n",
    "init_weights(disc)\n",
    "\n",
    "optim_g = optim.Adam(gen.parameters(), lr=lr, betas=(0.5,0.999))\n",
    "optim_d = optim.Adam(disc.parameters(), lr=lr, betas=(0.5,0.999))\n",
    "criterion = nn.BCELoss()\n",
    "\n",
    "gen.train()\n",
    "disc.train()\n",
    "\n",
    "for epoch in range(n_epochs):\n",
    "    for step, (real, _) in enumerate(dataloader):\n",
    "        real = real.to(device)\n",
    "        noise = torch.randn((batch_size, z_dim, 1,1)).to(device)\n",
    "        fake = gen(noise)\n",
    "        \n",
    "        # train discriminator\n",
    "        disc_real = disc(real).reshape(-1)\n",
    "        loss_disc_real = criterion(disc_real, torch.ones_like(disc_real))\n",
    "        disc_fake = disc(fake).reshape(-1)\n",
    "        loss_disc_fake = criterion(disc_fake, torch.zeros_like(disc_fake))\n",
    "        loss_disc = (loss_disc_real + loss_disc_fake) / 2\n",
    "        disc.zero_grad()\n",
    "        loss_disc.backward(retain_graph=True)\n",
    "        optim_d.step()\n",
    "        \n",
    "        # train generator\n",
    "        output = disc(fake).reshape(-1)\n",
    "        loss_gen = criterion(output, torch.ones_like(output))\n",
    "        gen.zero_grad()\n",
    "        loss_gen.backward()\n",
    "        optim_g.step()\n",
    "    print(f\"epoch {epoch+1}: completed\")"
   ]
  },
  {
   "cell_type": "code",
   "execution_count": 23,
   "id": "41d98772-d03b-46f8-960d-4c7da1a1abe3",
   "metadata": {},
   "outputs": [],
   "source": [
    "torch.save(gen, \"gen.pth\")\n",
    "torch.save(disc, \"disc.pth\")"
   ]
  },
  {
   "cell_type": "code",
   "execution_count": 24,
   "id": "33109fa7-e223-4146-b107-4f63efb499fd",
   "metadata": {},
   "outputs": [],
   "source": [
    "gen = torch.load(\"gen.pth\")\n",
    "disc = torch.load(\"disc.pth\")"
   ]
  },
  {
   "cell_type": "code",
   "execution_count": null,
   "id": "01bcedd6-02ad-48a8-bfcb-2efa912579b5",
   "metadata": {},
   "outputs": [],
   "source": [
    "import numpy as np\n",
    "import matplotlib.pyplot as plt\n",
    "import torchvision.utils as vutils\n",
    "\n",
    "# Generate random noise vectors\n",
    "noise = torch.randn(10, 100, 1, 1, device=device)\n",
    "\n",
    "# Generate fake images\n",
    "fake_images = gen(noise)\n",
    "\n",
    "# Rescale pixel values to be between 0 and 1\n",
    "fake_images = (fake_images + 1) / 2.0\n",
    "\n",
    "# Create a grid of the generated images and display them\n",
    "fig = plt.figure(figsize=(5, 5))\n",
    "plt.axis(\"off\")\n",
    "plt.imshow(\n",
    "    np.transpose(\n",
    "        vutils.make_grid(fake_images.detach().cpu(), padding=2, normalize=True),\n",
    "        (1, 2, 0),\n",
    "    )\n",
    ")\n",
    "# plt.savefig('./gan_group_img.jpg')\n",
    "plt.show()"
   ]
  },
  {
   "cell_type": "code",
   "execution_count": null,
   "id": "68f6195d-7524-4fd9-881f-af7d66827748",
   "metadata": {},
   "outputs": [],
   "source": [
    "import numpy as np\n",
    "import matplotlib.pyplot as plt\n",
    "import torchvision.utils as vutils\n",
    "\n",
    "for i in range(10):\n",
    "    condition = torch.tensor([i] * 1, device=device)\n",
    "\n",
    "    # Generate random noise vectors\n",
    "    noise = torch.randn(1, 128, 1, 1, device=device)\n",
    "\n",
    "    # Generate fake images\n",
    "    fake_images = gen(noise,condition)\n",
    "\n",
    "    # Rescale pixel values to be between 0 and 1\n",
    "    fake_images = (fake_images + 1) / 2.0\n",
    "    print(fake_images.shape)\n",
    "\n",
    "    # Create a grid of the generated images and display them\n",
    "    fig = plt.figure(figsize=(5, 5))\n",
    "    plt.axis(\"off\")\n",
    "    \n",
    "    image = np.transpose(vutils.make_grid(fake_images.detach().cpu(), padding=2, normalize=True), (1, 2, 0),)\n",
    "    plt.imshow(image)\n",
    "    # plt.savefig(f'./gan_img_{i}.jpg')\n",
    "    plt.show()"
   ]
  },
  {
   "cell_type": "code",
   "execution_count": null,
   "id": "1601ec01-fafb-47fc-a8ed-b7da4b6700d0",
   "metadata": {},
   "outputs": [],
   "source": []
  },
  {
   "cell_type": "code",
   "execution_count": null,
   "id": "54484f70-d71d-4dbe-8ce4-8a481d7769a8",
   "metadata": {},
   "outputs": [],
   "source": []
  }
 ],
 "metadata": {
  "kernelspec": {
   "display_name": "Python 3 (ipykernel)",
   "language": "python",
   "name": "python3"
  },
  "language_info": {
   "codemirror_mode": {
    "name": "ipython",
    "version": 3
   },
   "file_extension": ".py",
   "mimetype": "text/x-python",
   "name": "python",
   "nbconvert_exporter": "python",
   "pygments_lexer": "ipython3",
   "version": "3.10.10"
  }
 },
 "nbformat": 4,
 "nbformat_minor": 5
}
