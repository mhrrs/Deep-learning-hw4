{
 "cells": [
  {
   "cell_type": "code",
   "execution_count": 1,
   "id": "2f1bd16c-627c-471e-a09b-9330fb88232f",
   "metadata": {},
   "outputs": [
    {
     "name": "stderr",
     "output_type": "stream",
     "text": [
      "2023-04-22 21:59:11.478545: I tensorflow/core/platform/cpu_feature_guard.cc:193] This TensorFlow binary is optimized with oneAPI Deep Neural Network Library (oneDNN) to use the following CPU instructions in performance-critical operations:  SSE4.1 SSE4.2 AVX AVX2 AVX512F AVX512_VNNI FMA\n",
      "To enable them in other operations, rebuild TensorFlow with the appropriate compiler flags.\n"
     ]
    }
   ],
   "source": [
    "import torch\n",
    "import torch.nn as nn\n",
    "import torch.optim as optim\n",
    "import torchvision\n",
    "import torchvision.datasets as datasets\n",
    "import torchvision.transforms as transforms\n",
    "from torch.utils.data import DataLoader\n",
    "from torch.utils.tensorboard import SummaryWriter\n",
    "device = torch.device(\"cuda\" if torch.cuda.is_available() else \"cpu\")"
   ]
  },
  {
   "cell_type": "code",
   "execution_count": 2,
   "id": "43a57d40-0f85-4c62-847c-01cea69caed7",
   "metadata": {},
   "outputs": [],
   "source": [
    "class Discriminator(nn.Module):\n",
    "    def __init__(self, channels_img, features_d, n_classes, img_size):\n",
    "        super(Discriminator, self).__init__()\n",
    "        self.img_size = img_size\n",
    "        self.label_embed = nn.Embedding(n_classes, img_size**2)\n",
    "        \n",
    "        self.disc = nn.Sequential(\n",
    "            #input: N x Channels_img x 64 x 64\n",
    "            nn.Conv2d(channels_img+1,features_d,kernel_size=4,stride=2,padding=1),\n",
    "            nn.LeakyReLU(0.2),\n",
    "            self.block(features_d, features_d*2,4,2,1),\n",
    "            self.block(features_d*2, features_d*4,4,2,1),\n",
    "            self.block(features_d*4, features_d*8,4,2,1),\n",
    "            nn.Conv2d(features_d*8,1, kernel_size=4,stride=2,padding=0), #single value output determining if the photo is real\n",
    "            nn.Sigmoid()\n",
    "        )\n",
    "        \n",
    "    def block(self, in_channels, out_channels, kernel_size, stride, padding):\n",
    "        return nn.Sequential(\n",
    "            nn.Conv2d(in_channels,out_channels,kernel_size,stride,padding,bias=False),\n",
    "            nn.BatchNorm2d(out_channels),\n",
    "            nn.LeakyReLU(0.2),\n",
    "        )\n",
    "    \n",
    "    def forward(self, x, labels):\n",
    "        e = self.label_embed(labels).view(labels.shape[0], 1, self.img_size, self.img_size)\n",
    "        x = torch.cat([x, e], dim=1)\n",
    "        return self.disc(x)\n",
    "            "
   ]
  },
  {
   "cell_type": "code",
   "execution_count": 3,
   "id": "3eb1158d-b100-4bf5-8cdf-2efdcd68a332",
   "metadata": {},
   "outputs": [],
   "source": [
    "class Generator(nn.Module):\n",
    "    def __init__(self, z_dim, channels_img, features_g, n_classes, img_size, embed_size):\n",
    "        super(Generator, self).__init__()\n",
    "        self.img_size = img_size\n",
    "        \n",
    "        self.label_embed = nn.Embedding(n_classes, embed_size)\n",
    "        \n",
    "        self.gen = nn.Sequential(\n",
    "            self.block(z_dim+embed_size, features_g*16, 4, 1, 0), #N x f_g x 16 x 4 x 4\n",
    "            self.block(features_g*16, features_g*8, 4, 2, 1), # 8x8\n",
    "            self.block(features_g*8, features_g*4, 4, 2, 1), #16x16\n",
    "            self.block(features_g*4, features_g*2, 4, 2, 1), #32x32\n",
    "            # self.block(features_g*2, features_g, 4, 2, 1),\n",
    "            # self.block(features_g*2, channels_img, 4, 2, 1),\n",
    "            nn.ConvTranspose2d(\n",
    "                features_g*2, channels_img, kernel_size=4,stride=2, padding=1,\n",
    "            ),\n",
    "            nn.Tanh(), #[-1,1]\n",
    "        )\n",
    "        \n",
    "    def block(self, in_channels, out_channels, kernel_size, stride, padding):\n",
    "        return nn.Sequential(\n",
    "            nn.ConvTranspose2d(in_channels,out_channels,kernel_size,stride,padding,bias=False),\n",
    "            nn.BatchNorm2d(out_channels),\n",
    "            nn.ReLU(),\n",
    "        )\n",
    "    \n",
    "    def forward(self, x, labels):\n",
    "        e = self.label_embed(labels).unsqueeze(2).unsqueeze(3) # creates vector: N x noise x 1 x 1\n",
    "        x = torch.cat([x,e],dim=1)\n",
    "        return self.gen(x)"
   ]
  },
  {
   "cell_type": "code",
   "execution_count": 4,
   "id": "d25d77b2-c07a-47a2-a846-c88a7fea8ca9",
   "metadata": {},
   "outputs": [],
   "source": [
    "def init_weights(model):\n",
    "    for m in model.modules():\n",
    "        if isinstance(m, (nn.Conv2d, nn.ConvTranspose2d, nn.BatchNorm2d)):\n",
    "            nn.init.normal_(m.weight.data, 0.0, 0.02)\n",
    "                \n",
    "def test():\n",
    "    N, in_channels, H, W = 8, 3, 64, 64\n",
    "    z_dim = 100\n",
    "    x = torch.randn((N, in_channels, H, W))\n",
    "    disc = Discriminator(in_channels, 8,10,64)\n",
    "    init_weights(disc)\n",
    "    assert disc(x).shape == (N, 1,1,1)\n",
    "    gen = Generator(z_dim, in_channels, 8,10,64,100)\n",
    "    z = torch.randn((N, z_dim, 1,1))\n",
    "    assert gen(z).shape == (N, in_channels, H, W)\n",
    "    print(\"Success\")"
   ]
  },
  {
   "cell_type": "markdown",
   "id": "feed4e3d-bd4d-40c9-8671-2995e75ac60e",
   "metadata": {},
   "source": [
    "# Training the model"
   ]
  },
  {
   "cell_type": "code",
   "execution_count": 7,
   "id": "96db8a63-d9ce-4eb9-ada8-a97e92193448",
   "metadata": {},
   "outputs": [],
   "source": [
    "#hyperparameters\n",
    "lr = .0002\n",
    "batch_size = 128\n",
    "img_size = 64\n",
    "channels_img = 3\n",
    "z_dim = 128\n",
    "n_epochs = 10\n",
    "n_classes = 10\n",
    "gen_embed = 100\n",
    "\n",
    "# these two need to be the same to match the paper\n",
    "features_disc = 64\n",
    "features_gen = 64"
   ]
  },
  {
   "cell_type": "markdown",
   "id": "7a69ffaa-d2c6-4a87-9eb3-a8f0b255b445",
   "metadata": {},
   "source": [
    "# WGAN LOOP:"
   ]
  },
  {
   "cell_type": "code",
   "execution_count": 9,
   "id": "2a5b3edc-3bc0-4dd5-8822-603dad0ed2ad",
   "metadata": {},
   "outputs": [],
   "source": [
    "# hyperparameters\n",
    "n_epochs = 25\n",
    "batch_size = 64\n",
    "lr = 0.00005\n",
    "z_dim = 128\n",
    "img_size = 64\n",
    "channels_img = 3\n",
    "clip_value = 0.01\n",
    "sample_interval = 400\n",
    "critic_epochs = 25\n",
    "n_classes = 10\n",
    "\n",
    "features_g = 64\n",
    "features_c = 64"
   ]
  },
  {
   "cell_type": "code",
   "execution_count": null,
   "id": "9a09d589-cf3e-466e-b980-bea23e92902e",
   "metadata": {},
   "outputs": [
    {
     "name": "stdout",
     "output_type": "stream",
     "text": [
      "epoch 1: completed\n",
      "epoch 2: completed\n",
      "epoch 3: completed\n",
      "epoch 4: completed\n",
      "epoch 5: completed\n",
      "epoch 6: completed\n",
      "epoch 7: completed\n",
      "epoch 8: completed\n",
      "epoch 9: completed\n",
      "epoch 10: completed\n",
      "epoch 11: completed\n",
      "epoch 12: completed\n"
     ]
    }
   ],
   "source": [
    "transforms = torchvision.transforms.Compose(\n",
    "    [\n",
    "        torchvision.transforms.Resize(img_size),\n",
    "        torchvision.transforms.ToTensor(),\n",
    "        torchvision.transforms.Normalize([0.5 for _ in range(channels_img)],[0.5 for _ in range(channels_img)]),\n",
    "    ]\n",
    ")\n",
    "\n",
    "\n",
    "dataset = datasets.CIFAR10(root=\"dataset/\", train=True, transform=transforms)\n",
    "# dataset = datasets.MNIST(root=\"dataset/\", train=True, transform=transforms)\n",
    "dataloader = DataLoader(dataset, batch_size=batch_size, shuffle=True)\n",
    "\n",
    "gen = Generator(z_dim, channels_img, features_g, n_classes, img_size, gen_embed).to(device)\n",
    "critic = Discriminator(channels_img, features_c, n_classes, img_size).to(device)\n",
    "\n",
    "optim_g = torch.optim.RMSprop(gen.parameters(), lr=lr)\n",
    "optim_c = torch.optim.RMSprop(critic.parameters(), lr=lr)\n",
    "\n",
    "init_weights(gen)\n",
    "init_weights(critic)\n",
    "\n",
    "gen.train()\n",
    "critic.train()\n",
    "\n",
    "for epoch in range(n_epochs):\n",
    "    for step, (real, labels) in enumerate(dataloader):\n",
    "        if step+1 == len(dataloader):\n",
    "            break\n",
    "        \n",
    "        real = real.to(device)\n",
    "        labels = labels.to(device)\n",
    "        \n",
    "        for _ in range(critic_epochs):\n",
    "            noise = torch.randn(batch_size, z_dim, 1, 1).to(device)\n",
    "            fake = gen(noise, labels)\n",
    "            critic_real = critic(real,labels).reshape(-1) # to flatten the vector\n",
    "            critic_fake = critic(fake,labels).reshape(-1)\n",
    "            loss_critic = -(torch.mean(critic_real) - torch.mean(critic_fake)) # the formula from the paper\n",
    "            critic.zero_grad()\n",
    "            loss_critic.backward(retain_graph=True)\n",
    "            optim_c.step()\n",
    "            \n",
    "            for p in critic.parameters(): # clip the weights between the threshold\n",
    "                p.data.clamp_(-clip_value, clip_value)\n",
    "        \n",
    "            \n",
    "        output = critic(fake,labels).reshape(-1)\n",
    "        loss_gen = -torch.mean(output)\n",
    "        gen.zero_grad()\n",
    "        loss_gen.backward()\n",
    "        optim_g.step()\n",
    "        \n",
    "    print(f\"epoch {epoch+1}: completed\")"
   ]
  },
  {
   "cell_type": "code",
   "execution_count": null,
   "id": "41d98772-d03b-46f8-960d-4c7da1a1abe3",
   "metadata": {},
   "outputs": [],
   "source": [
    "torch.save(gen, \"./cWGAN_GEN.pth\")\n",
    "torch.save(disc, \"cWGAN_DISC.pth\")"
   ]
  },
  {
   "cell_type": "code",
   "execution_count": 5,
   "id": "58355a47-4f9d-461f-a8d2-14b0c0498a1d",
   "metadata": {},
   "outputs": [],
   "source": [
    "# gen = Generator()\n",
    "gen = torch.load(\"./cWGAN_GEN.pth\")\n",
    "disc = torch.load(\"bestMNISTcDISC.pth\")"
   ]
  },
  {
   "cell_type": "code",
   "execution_count": null,
   "id": "01bcedd6-02ad-48a8-bfcb-2efa912579b5",
   "metadata": {},
   "outputs": [],
   "source": [
    "import numpy as np\n",
    "import matplotlib.pyplot as plt\n",
    "import torchvision.utils as vutils\n",
    "\n",
    "for i in range(10):\n",
    "    condition = torch.tensor([i] * 1, device=device)\n",
    "\n",
    "    # Generate random noise vectors\n",
    "    noise = torch.randn(1, 128, 1, 1, device=device)\n",
    "\n",
    "    # Generate fake images\n",
    "    fake_images = gen(noise,condition)\n",
    "\n",
    "    # Rescale pixel values to be between 0 and 1\n",
    "    fake_images = (fake_images + 1) / 2.0\n",
    "    print(fake_images.shape)\n",
    "\n",
    "    # Create a grid of the generated images and display them\n",
    "    fig = plt.figure(figsize=(5, 5))\n",
    "    plt.axis(\"off\")\n",
    "    \n",
    "    image = np.transpose(vutils.make_grid(fake_images.detach().cpu(), padding=2, normalize=True), (1, 2, 0),)\n",
    "    plt.imshow(image)\n",
    "    plt.savefig(f'./gan_img_{i}.jpg')\n",
    "    plt.show()"
   ]
  },
  {
   "cell_type": "code",
   "execution_count": null,
   "id": "116add88-e490-485d-a934-32a85a5e3286",
   "metadata": {},
   "outputs": [],
   "source": []
  }
 ],
 "metadata": {
  "kernelspec": {
   "display_name": "Python 3 (ipykernel)",
   "language": "python",
   "name": "python3"
  },
  "language_info": {
   "codemirror_mode": {
    "name": "ipython",
    "version": 3
   },
   "file_extension": ".py",
   "mimetype": "text/x-python",
   "name": "python",
   "nbconvert_exporter": "python",
   "pygments_lexer": "ipython3",
   "version": "3.10.10"
  }
 },
 "nbformat": 4,
 "nbformat_minor": 5
}
